{
 "cells": [
  {
   "cell_type": "code",
   "execution_count": 4,
   "id": "297ef6c5",
   "metadata": {},
   "outputs": [],
   "source": [
    "from sklearn.model_selection import train_test_split\n",
    "from sklearn.metrics import classification_report, r2_score\n",
    "from sklearn.tree import DecisionTreeClassifier\n",
    "from sklearn.datasets import load_iris\n",
    "from sklearn.metrics import accuracy_score\n",
    "from sklearn.utils import resample\n",
    "import numpy as np"
   ]
  },
  {
   "cell_type": "markdown",
   "id": "8aada36e",
   "metadata": {},
   "source": [
    "## Implementing Bagging from stratch"
   ]
  },
  {
   "cell_type": "code",
   "execution_count": 9,
   "id": "a6d9862e",
   "metadata": {},
   "outputs": [
    {
     "name": "stdout",
     "output_type": "stream",
     "text": [
      "Bagging Accuracy:\n",
      "               precision    recall  f1-score   support\n",
      "\n",
      "           0       1.00      1.00      1.00        10\n",
      "           1       1.00      1.00      1.00        13\n",
      "           2       1.00      1.00      1.00         7\n",
      "\n",
      "    accuracy                           1.00        30\n",
      "   macro avg       1.00      1.00      1.00        30\n",
      "weighted avg       1.00      1.00      1.00        30\n",
      "\n"
     ]
    }
   ],
   "source": [
    "\n",
    "\n",
    "# Load dataset\n",
    "X, y = load_iris(return_X_y=True)\n",
    "\n",
    "X_train , X_test , y_train, y_test = train_test_split(X, y, test_size=0.2, random_state=10)\n",
    "\n",
    "# Parameters\n",
    "n_estimators = 10\n",
    "n_samples = int(0.8 * len(X_train))\n",
    "models = []\n",
    "\n",
    "# Train multiple models on different bootstrap samples\n",
    "for i in range(n_estimators):\n",
    "    X_sample, y_sample = resample(X_train, y_train, n_samples=n_samples, replace=True, random_state=i)\n",
    "    model = DecisionTreeClassifier()\n",
    "    model.fit(X_sample, y_sample)\n",
    "    models.append(model)\n",
    "\n",
    "# Make predictions (majority voting)\n",
    "from scipy.stats import mode\n",
    "\n",
    "predictions = np.array([model.predict(X_test) for model in models])\n",
    "final_prediction, _ = mode(predictions, axis=0)\n",
    "\n",
    "print(\"Bagging Accuracy:\\n\", classification_report(y_test, final_prediction.ravel()))\n"
   ]
  },
  {
   "cell_type": "code",
   "execution_count": 10,
   "id": "aad48d84",
   "metadata": {},
   "outputs": [
    {
     "name": "stdout",
     "output_type": "stream",
     "text": [
      "              precision    recall  f1-score   support\n",
      "\n",
      "           0       1.00      1.00      1.00        10\n",
      "           1       1.00      0.92      0.96        13\n",
      "           2       0.88      1.00      0.93         7\n",
      "\n",
      "    accuracy                           0.97        30\n",
      "   macro avg       0.96      0.97      0.96        30\n",
      "weighted avg       0.97      0.97      0.97        30\n",
      "\n"
     ]
    }
   ],
   "source": [
    "dt = DecisionTreeClassifier()\n",
    "\n",
    "dt.fit(X_train, y_train)\n",
    "\n",
    "print(classification_report(y_test, dt.predict(X_test)))"
   ]
  },
  {
   "cell_type": "markdown",
   "id": "f6278c92",
   "metadata": {},
   "source": [
    "The results above clearly demonstrate that bagging significantly reduces test error and enhances model performance. By aggregating predictions from multiple base estimators trained on different bootstrap samples, bagging increases the robustness and generalization ability of the model, leading to improved accuracy and more reliable predictions on unseen data."
   ]
  },
  {
   "cell_type": "markdown",
   "id": "fb5cdf20",
   "metadata": {},
   "source": [
    "## Baging and Pasting"
   ]
  },
  {
   "cell_type": "code",
   "execution_count": 51,
   "id": "99b4fb6c",
   "metadata": {},
   "outputs": [],
   "source": [
    "from sklearn.ensemble import BaggingClassifier, BaggingRegressor\n",
    "from sklearn.datasets import make_moons\n",
    "\n",
    "X_moons, y_moons = make_moons(n_samples=1500, noise=0.3, random_state=42)\n",
    "\n",
    "X_train , X_test , y_train, y_test = train_test_split(X_moons, y_moons\n",
    "                                                      , test_size=0.2, random_state=10)\n"
   ]
  },
  {
   "cell_type": "code",
   "execution_count": 31,
   "id": "abf52e06",
   "metadata": {},
   "outputs": [],
   "source": [
    "bag_clf = BaggingClassifier(\n",
    "    estimator=DecisionTreeClassifier(),\n",
    "    n_estimators=500,\n",
    "    bootstrap=True, \n",
    "    n_jobs=-1\n",
    ")\n",
    "bag_clf.fit(X_train, y_train)\n",
    "\n",
    "y_pred = bag_clf.predict(X_test)"
   ]
  },
  {
   "cell_type": "code",
   "execution_count": 30,
   "id": "6a3ff2c5",
   "metadata": {},
   "outputs": [
    {
     "name": "stdout",
     "output_type": "stream",
     "text": [
      "              precision    recall  f1-score   support\n",
      "\n",
      "           0       0.91      0.93      0.92       148\n",
      "           1       0.93      0.91      0.92       152\n",
      "\n",
      "    accuracy                           0.92       300\n",
      "   macro avg       0.92      0.92      0.92       300\n",
      "weighted avg       0.92      0.92      0.92       300\n",
      "\n"
     ]
    }
   ],
   "source": [
    "print(classification_report(y_test, y_pred))"
   ]
  },
  {
   "cell_type": "markdown",
   "id": "570b3b89",
   "metadata": {},
   "source": [
    "##  Out-of-Bag Evaluation\n",
    "\n",
    "With bagging, some instances may be sampled several times for any given predictor,\n",
    " while others may not be sampled at all. By default a BaggingClassifier samples m\n",
    " training instances with replacement (bootstrap=True), where m is the size of the\n",
    " training set. This means that only about 63% of the training instances are sampled on\n",
    " average for each predictor.6 The remaining 37% of the training instances that are not\n",
    " sampled are called out-of-bag (oob) instances. Note that they are not the same 37%\n",
    " for all predictors."
   ]
  },
  {
   "cell_type": "code",
   "execution_count": 25,
   "id": "df9dc9f4",
   "metadata": {},
   "outputs": [
    {
     "data": {
      "text/plain": [
       "0.8841666666666667"
      ]
     },
     "execution_count": 25,
     "metadata": {},
     "output_type": "execute_result"
    }
   ],
   "source": [
    "bag_clf = BaggingClassifier(\n",
    "    estimator=DecisionTreeClassifier(),\n",
    "    n_estimators=500,\n",
    "    bootstrap=True, \n",
    "    n_jobs=-1,\n",
    "    oob_score=True,\n",
    "    bootstrap_features=True\n",
    ")\n",
    "bag_clf.fit(X_train, y_train)\n",
    "bag_clf.oob_score_\n"
   ]
  },
  {
   "cell_type": "markdown",
   "id": "dc3aee16",
   "metadata": {},
   "source": [
    " According to this oob evaluation, this BaggingClassifier is likely to achieve about\n",
    " 89.08% accuracy on the test set. Let's verify this."
   ]
  },
  {
   "cell_type": "code",
   "execution_count": 26,
   "id": "33f2a037",
   "metadata": {},
   "outputs": [
    {
     "name": "stdout",
     "output_type": "stream",
     "text": [
      "              precision    recall  f1-score   support\n",
      "\n",
      "           0       0.90      0.93      0.91       148\n",
      "           1       0.93      0.89      0.91       152\n",
      "\n",
      "    accuracy                           0.91       300\n",
      "   macro avg       0.91      0.91      0.91       300\n",
      "weighted avg       0.91      0.91      0.91       300\n",
      "\n"
     ]
    }
   ],
   "source": [
    "print(classification_report(y_test, bag_clf.predict(X_test)))"
   ]
  },
  {
   "cell_type": "markdown",
   "id": "78a0b9cc",
   "metadata": {},
   "source": [
    "91% Accuracy that's close enought."
   ]
  },
  {
   "cell_type": "markdown",
   "id": "183e1e19",
   "metadata": {},
   "source": [
    "## Random Patches and Random Subpatches\n",
    "\n",
    " - Random Patches: sampling both training instance and features\n",
    " - Random Subpatches: Keeping all training instances (i.e., bootstrap=False and max_sam\n",
    "    ples=1.0) but sampling features (i.e., bootstrap_features=True and/or max_fea\n",
    "    tures smaller than 1.0) is called the Random Subspaces method.8"
   ]
  },
  {
   "cell_type": "code",
   "execution_count": 35,
   "id": "ae5ca164",
   "metadata": {},
   "outputs": [
    {
     "name": "stdout",
     "output_type": "stream",
     "text": [
      "              precision    recall  f1-score   support\n",
      "\n",
      "           0       0.89      0.92      0.91       148\n",
      "           1       0.92      0.89      0.91       152\n",
      "\n",
      "    accuracy                           0.91       300\n",
      "   macro avg       0.91      0.91      0.91       300\n",
      "weighted avg       0.91      0.91      0.91       300\n",
      "\n"
     ]
    }
   ],
   "source": [
    "# Random Patches\n",
    "bag_clf = BaggingClassifier(\n",
    "    estimator=DecisionTreeClassifier(),\n",
    "    n_estimators=500,\n",
    "    bootstrap=True, \n",
    "    n_jobs=-1,\n",
    "    oob_score=True,\n",
    "    bootstrap_features=True\n",
    ")\n",
    "bag_clf.fit(X_train, y_train)\n",
    "\n",
    "\n",
    "print(classification_report(y_test, bag_clf.predict(X_test)))\n",
    "\n"
   ]
  },
  {
   "cell_type": "code",
   "execution_count": 40,
   "id": "97e0db72",
   "metadata": {},
   "outputs": [
    {
     "name": "stdout",
     "output_type": "stream",
     "text": [
      "              precision    recall  f1-score   support\n",
      "\n",
      "           0       0.87      0.89      0.88       148\n",
      "           1       0.89      0.88      0.88       152\n",
      "\n",
      "    accuracy                           0.88       300\n",
      "   macro avg       0.88      0.88      0.88       300\n",
      "weighted avg       0.88      0.88      0.88       300\n",
      "\n"
     ]
    }
   ],
   "source": [
    "# Random subpatches\n",
    "\n",
    "bag_clf = BaggingClassifier(\n",
    "    estimator=DecisionTreeClassifier(),\n",
    "    n_estimators=500,\n",
    "    bootstrap=False,\n",
    "    n_jobs=-1,\n",
    "    bootstrap_features=True\n",
    ")\n",
    "bag_clf.fit(X_train, y_train)\n",
    "\n",
    "\n",
    "print(classification_report(y_test, bag_clf.predict(X_test)))\n",
    "\n"
   ]
  },
  {
   "cell_type": "markdown",
   "id": "075b9ffb",
   "metadata": {},
   "source": [
    "### Conclusion \n",
    " : It's obvious that random patches imporves the model performance better than random subpatches"
   ]
  },
  {
   "cell_type": "code",
   "execution_count": 49,
   "id": "1bf4310c",
   "metadata": {},
   "outputs": [
    {
     "name": "stdout",
     "output_type": "stream",
     "text": [
      "              precision    recall  f1-score   support\n",
      "\n",
      "           0       0.91      0.96      0.93       148\n",
      "           1       0.96      0.91      0.93       152\n",
      "\n",
      "    accuracy                           0.93       300\n",
      "   macro avg       0.93      0.93      0.93       300\n",
      "weighted avg       0.93      0.93      0.93       300\n",
      "\n"
     ]
    }
   ],
   "source": [
    "# Random Forest Classifier: an essemble extension  of decision tree 4\n",
    "from sklearn.ensemble import RandomForestClassifier\n",
    "rnd_clf = RandomForestClassifier(n_estimators=500, # NORMALL EQUALS TO TRAIN SIZE\n",
    "                                 max_leaf_nodes=16,\n",
    "                                 n_jobs=-1, \n",
    "                                 max_samples=1.0                              \n",
    "                                 )\n",
    "rnd_clf.fit(X_train, y_train)\n",
    "y_pred_rf = rnd_clf.predict(X_test)\n",
    "\n",
    "print(classification_report(y_test, y_pred_rf, zero_division=True))\n"
   ]
  },
  {
   "cell_type": "markdown",
   "id": "a2b73dda",
   "metadata": {},
   "source": [
    "-  The BaggingClassifier class remains useful if you want a bag of something other than Decision Trees.\n",
    "- There are a few notable exceptions: splitter is absent (forced to \"random\"), presort is absent (forced to\n",
    " False), max_samples is absent (forced to 1.0), and base_estimator is absent (forced to DecisionTreeClassi\n",
    " fier with the provided hyperparameters)."
   ]
  },
  {
   "cell_type": "markdown",
   "id": "da81d58d",
   "metadata": {},
   "source": [
    "> **Note:**  \n",
    "> It is difficult to predict in advance whether a `RandomForestClassifier` will outperform an `ExtraTreesClassifier`.  \n",
    "> \n",
    "> The best practice is to try both algorithms and compare their performance using cross-validation, while tuning their hyperparameters (e.g., via grid search).\n"
   ]
  },
  {
   "cell_type": "markdown",
   "id": "6247d6da",
   "metadata": {},
   "source": [
    "## Random Forest for Feature Selection\n",
    "\n",
    "Random Forests are powerful tools not only for classification and regression tasks but also for identifying the most important features in your dataset. By evaluating feature importances, Random Forests provide valuable insights into which features contribute most to the predictive performance of the model.\n",
    "\n",
    "<div style=\"background: black; border-left: 4px solid #007acc; padding: 1em; margin: 1em 0; border-radius: 4px;\">\n",
    "<strong>Key Benefits:</strong>\n",
    "<ul>\n",
    "    <li><strong>Automatic Feature Ranking:</strong> Random Forests assign an importance score to each feature, helping you focus on the most relevant variables.</li>\n",
    "    <li><strong>Dimensionality Reduction:</strong> By selecting only the top features, you can simplify your models and potentially improve generalization.</li>\n",
    "    <li><strong>Interpretability:</strong> Feature importances provide transparency into model decisions, supporting explainable AI initiatives.</li>\n",
    "</ul>\n",
    "</div>\n",
    "\n",
    "> 💡 <strong>Tip:</strong> Use the <code>feature_importances_</code> attribute of a trained <code>RandomForestClassifier</code> to access and visualize feature importances for your dataset."
   ]
  },
  {
   "cell_type": "code",
   "execution_count": 48,
   "id": "d75677e2",
   "metadata": {},
   "outputs": [
    {
     "name": "stdout",
     "output_type": "stream",
     "text": [
      "sepal length (cm) 0.0933684479691592\n",
      "sepal width (cm) 0.023038342946713693\n",
      "petal length (cm) 0.43033229650352717\n",
      "petal width (cm) 0.45326091258059986\n"
     ]
    }
   ],
   "source": [
    "from sklearn.datasets import load_iris\n",
    "iris = load_iris()\n",
    "rnd_clf = RandomForestClassifier(n_estimators=500, n_jobs=-1)\n",
    "rnd_clf.fit(iris[\"data\"], iris[\"target\"])\n",
    "for name, score in zip(iris[\"feature_names\"], rnd_clf.feature_importances_):\n",
    "\n",
    "    print(name, score)"
   ]
  },
  {
   "cell_type": "markdown",
   "id": "5773aa7f",
   "metadata": {},
   "source": [
    "**It seems that the most important features are:**\n",
    "\n",
    "- **Petal length:** 44%\n",
    "- **Petal width:** 42%\n",
    "- **Sepal length:** 11%\n",
    "- **Sepal width:** 2%\n",
    "\n",
    "<span style=\"color:#007acc\"><strong>Conclusion:</strong></span>  \n",
    "Petal length and width are by far the most important features for classification in the Iris dataset, while sepal length and width contribute much less."
   ]
  },
  {
   "cell_type": "code",
   "execution_count": 50,
   "id": "8572ba40",
   "metadata": {},
   "outputs": [
    {
     "data": {
      "image/png": "[encoded data removed]",
      "text/plain": [
       "<Figure size 800x600 with 2 Axes>"
      ]
     },
     "metadata": {},
     "output_type": "display_data"
    }
   ],
   "source": [
    "from sklearn.datasets import fetch_openml\n",
    "import numpy as np\n",
    "\n",
    "import matplotlib.pyplot as plt\n",
    "\n",
    "# Load MNIST dataset\n",
    "mnist = fetch_openml('mnist_784', version=1, as_frame=False)\n",
    "X_mnist, y_mnist = mnist[\"data\"], mnist[\"target\"]\n",
    "\n",
    "# Train a RandomForestClassifier on a subset for speed\n",
    "rf_mnist = RandomForestClassifier(n_estimators=100, n_jobs=-1, random_state=42)\n",
    "rf_mnist.fit(X_mnist[:10000], y_mnist[:10000])\n",
    "\n",
    "# Get feature importances and reshape to 28x28\n",
    "importances = rf_mnist.feature_importances_.reshape(28, 28)\n",
    "\n",
    "plt.figure(figsize=(8, 6))\n",
    "plt.imshow(importances, cmap='hot', interpolation='nearest')\n",
    "plt.title(\"MNIST Feature Importances (Random Forest)\")\n",
    "plt.colorbar()\n",
    "plt.axis('off')\n",
    "plt.show()"
   ]
  },
  {
   "cell_type": "markdown",
   "id": "8720ed00",
   "metadata": {},
   "source": [
    "Random Forests are very handy to get a quick understanding of what features\n",
    " actually matter, in particular if you need to perform feature selection."
   ]
  },
  {
   "cell_type": "markdown",
   "id": "67c54d76",
   "metadata": {},
   "source": []
  },
  {
   "cell_type": "code",
   "execution_count": 1,
   "id": "a35ed243",
   "metadata": {},
   "outputs": [
    {
     "ename": "TypeError",
     "evalue": "BaggingClassifier.__init__() got an unexpected keyword argument 'base_estimator'",
     "output_type": "error",
     "traceback": [
      "\u001b[31m---------------------------------------------------------------------------\u001b[39m",
      "\u001b[31mTypeError\u001b[39m                                 Traceback (most recent call last)",
      "\u001b[36mCell\u001b[39m\u001b[36m \u001b[39m\u001b[32mIn[1]\u001b[39m\u001b[32m, line 34\u001b[39m\n\u001b[32m     24\u001b[39m voting_clf = VotingClassifier(\n\u001b[32m     25\u001b[39m     estimators=[\n\u001b[32m     26\u001b[39m         (\u001b[33m'\u001b[39m\u001b[33mlr\u001b[39m\u001b[33m'\u001b[39m, clf1),\n\u001b[32m   (...)\u001b[39m\u001b[32m     30\u001b[39m     voting=\u001b[33m'\u001b[39m\u001b[33mhard\u001b[39m\u001b[33m'\u001b[39m  \u001b[38;5;66;03m# Use 'soft' if all classifiers support predict_proba\u001b[39;00m\n\u001b[32m     31\u001b[39m )\n\u001b[32m     33\u001b[39m \u001b[38;5;66;03m# Step 4: Use BaggingClassifier on the VotingClassifier\u001b[39;00m\n\u001b[32m---> \u001b[39m\u001b[32m34\u001b[39m bagged_voting = \u001b[43mBaggingClassifier\u001b[49m\u001b[43m(\u001b[49m\n\u001b[32m     35\u001b[39m \u001b[43m    \u001b[49m\u001b[43mbase_estimator\u001b[49m\u001b[43m=\u001b[49m\u001b[43mvoting_clf\u001b[49m\u001b[43m,\u001b[49m\n\u001b[32m     36\u001b[39m \u001b[43m    \u001b[49m\u001b[43mn_estimators\u001b[49m\u001b[43m=\u001b[49m\u001b[32;43m10\u001b[39;49m\u001b[43m,\u001b[49m\n\u001b[32m     37\u001b[39m \u001b[43m    \u001b[49m\u001b[43mmax_samples\u001b[49m\u001b[43m=\u001b[49m\u001b[32;43m0.8\u001b[39;49m\u001b[43m,\u001b[49m\n\u001b[32m     38\u001b[39m \u001b[43m    \u001b[49m\u001b[43mbootstrap\u001b[49m\u001b[43m=\u001b[49m\u001b[38;5;28;43;01mTrue\u001b[39;49;00m\u001b[43m,\u001b[49m\n\u001b[32m     39\u001b[39m \u001b[43m    \u001b[49m\u001b[43mrandom_state\u001b[49m\u001b[43m=\u001b[49m\u001b[32;43m42\u001b[39;49m\n\u001b[32m     40\u001b[39m \u001b[43m)\u001b[49m\n\u001b[32m     42\u001b[39m \u001b[38;5;66;03m# Step 5: Train and evaluate\u001b[39;00m\n\u001b[32m     43\u001b[39m bagged_voting.fit(X_train, y_train)\n",
      "\u001b[31mTypeError\u001b[39m: BaggingClassifier.__init__() got an unexpected keyword argument 'base_estimator'"
     ]
    }
   ],
   "source": [
    "from sklearn.datasets import make_classification\n",
    "from sklearn.ensemble import VotingClassifier, BaggingClassifier\n",
    "from sklearn.linear_model import LogisticRegression\n",
    "from sklearn.neighbors import KNeighborsClassifier\n",
    "from sklearn.tree import DecisionTreeClassifier\n",
    "from sklearn.model_selection import train_test_split\n",
    "from sklearn.metrics import accuracy_score\n",
    "import warnings\n",
    "warnings.filterwarnings(\"ignore\")  # For cleaner output\n",
    "\n",
    "# Step 1: Generate synthetic dataset\n",
    "X, y = make_classification(\n",
    "    n_samples=1000, n_features=20, n_informative=15, n_redundant=5,\n",
    "    random_state=42, class_sep=1.5\n",
    ")\n",
    "X_train, X_test, y_train, y_test = train_test_split(X, y, test_size=0.3, random_state=42)\n",
    "\n",
    "# Step 2: Define individual base models\n",
    "clf1 = LogisticRegression()\n",
    "clf2 = KNeighborsClassifier()\n",
    "clf3 = DecisionTreeClassifier()\n",
    "\n",
    "# Step 3: Create a VotingClassifier\n",
    "voting_clf = VotingClassifier(\n",
    "    estimators=[\n",
    "        ('lr', clf1),\n",
    "        ('knn', clf2),\n",
    "        ('dt', clf3)\n",
    "    ],\n",
    "    voting='hard'  # Use 'soft' if all classifiers support predict_proba\n",
    ")\n",
    "\n",
    "# Step 4: Use BaggingClassifier on the VotingClassifier\n",
    "bagged_voting = BaggingClassifier(\n",
    "    base_estimator=voting_clf,\n",
    "    n_estimators=10,\n",
    "    max_samples=0.8,\n",
    "    bootstrap=True,\n",
    "    random_state=42\n",
    ")\n",
    "\n",
    "# Step 5: Train and evaluate\n",
    "bagged_voting.fit(X_train, y_train)\n",
    "y_pred = bagged_voting.predict(X_test)\n",
    "\n",
    "print(\"Accuracy (Bagged Voting Classifier):\", accuracy_score(y_test, y_pred))\n"
   ]
  }
 ],
 "metadata": {
  "kernelspec": {
   "display_name": ".venv",
   "language": "python",
   "name": "python3"
  },
  "language_info": {
   "codemirror_mode": {
    "name": "ipython",
    "version": 3
   },
   "file_extension": ".py",
   "mimetype": "text/x-python",
   "name": "python",
   "nbconvert_exporter": "python",
   "pygments_lexer": "ipython3",
   "version": "3.13.1"
  }
 },
 "nbformat": 4,
 "nbformat_minor": 5
}
